{
 "cells": [
  {
   "cell_type": "code",
   "execution_count": 2,
   "metadata": {},
   "outputs": [],
   "source": [
    "import pandas as pd\n",
    "import numpy as np"
   ]
  },
  {
   "cell_type": "markdown",
   "metadata": {},
   "source": [
    "## Clean up data types of different columns in Population_Trend.csv to be used a main DataFrame"
   ]
  },
  {
   "cell_type": "code",
   "execution_count": null,
   "metadata": {},
   "outputs": [],
   "source": [
    "# this part of the program only works once\n",
    "df = pd.read_csv('Data_csv/Population_Trend.csv', na_values=['','...'])\n",
    "\n",
    "df['Year'] = df['Year'].convert_dtypes()\n",
    "df['SDMX code'] = df['SDMX code'].convert_dtypes()\n",
    "\n",
    "for i in range(len(df['Total Population (thousands)'])):\n",
    "    if type(df['Total Population (thousands)'][i]) == str:\n",
    "        df['Total Population (thousands)'][i] = df['Total Population (thousands)'][i].replace(' ', '')\n",
    "df['Total Population (thousands)'] = df['Total Population (thousands)'].convert_dtypes()\n",
    "\n",
    "for i in range(len(df['Male Population (thousands)'])):\n",
    "    if type(df['Male Population (thousands)'][i]) == str:\n",
    "        df['Male Population (thousands)'][i] = df['Male Population (thousands)'][i].replace(' ', '')\n",
    "df['Male Population (thousands)'] = df['Male Population (thousands)'].convert_dtypes()\n",
    "\n",
    "for i in range(len(df['Female Population (thousands)'])):\n",
    "    if type(df['Female Population (thousands)'][i]) == str:\n",
    "        df['Female Population (thousands)'][i] = df['Female Population (thousands)'][i].replace(' ', '')\n",
    "df['Female Population (thousands)'] = df['Female Population (thousands)'].convert_dtypes()\n",
    "\n",
    "for i in range(len(df['Population Change (thousands)'])):\n",
    "    if type(df['Population Change (thousands)'][i]) == str:\n",
    "        df['Population Change (thousands)'][i] = df['Population Change (thousands)'][i].replace(' ', '')\n",
    "df['Population Change (thousands)'] = df['Population Change (thousands)'].convert_dtypes()\n",
    "\n",
    "for i in range(len(df['Net Number of Migrants (thousands)'])):\n",
    "    if type(df['Net Number of Migrants (thousands)'][i]) == str:\n",
    "        df['Net Number of Migrants (thousands)'][i] = df['Net Number of Migrants (thousands)'][i].replace(' ', '')\n",
    "df['Net Number of Migrants (thousands)'] = df['Net Number of Migrants (thousands)'].convert_dtypes()\n",
    "\n",
    "df.to_csv('Data_csv/Population_Trend.csv', index=False)"
   ]
  },
  {
   "cell_type": "markdown",
   "metadata": {},
   "source": [
    "# DataFrame Combination and `Optimization`"
   ]
  },
  {
   "cell_type": "markdown",
   "metadata": {},
   "source": [
    "## The algorithm below takes 1m 40s to 1m 45s"
   ]
  },
  {
   "cell_type": "code",
   "execution_count": 21,
   "metadata": {},
   "outputs": [
    {
     "name": "stderr",
     "output_type": "stream",
     "text": [
      "/var/folders/p9/hv4dt0sj5kgfwrq39rtxwdyh0000gn/T/ipykernel_32108/537625931.py:8: SettingWithCopyWarning: \n",
      "A value is trying to be set on a copy of a slice from a DataFrame\n",
      "\n",
      "See the caveats in the documentation: https://pandas.pydata.org/pandas-docs/stable/user_guide/indexing.html#returning-a-view-versus-a-copy\n",
      "  df_main['Human Development Index (HDI)'][i] = df_HDI_trend['Human Development Index (HDI Value)'][j]\n"
     ]
    }
   ],
   "source": [
    "df_main = pd.read_csv('Data_csv/Population_Trend.csv', na_values=['','..','...'])\n",
    "df_HDI_trend = pd.read_csv('Data_csv/HDI_Trend_1990-2021.csv', na_values=['','..','...'])\n",
    "\n",
    "df_main['Human Development Index (HDI)'] = [None for i in range(len(df_main['Region, Country, or Area']))]\n",
    "for i in range(len(df_main['Region, Country, or Area'])):\n",
    "    for j in range(len(df_HDI_trend['Country'])):\n",
    "        if df_HDI_trend['Country'][j] == df_main['Region, Country, or Area'][i] and df_HDI_trend['Year'][j] == df_main['Year'][i]:\n",
    "            df_main['Human Development Index (HDI)'][i] = df_HDI_trend['Human Development Index (HDI Value)'][j]\n",
    "\n",
    "df_main.to_csv('Population_Trend+HDI.csv', index=False)"
   ]
  },
  {
   "cell_type": "markdown",
   "metadata": {},
   "source": [
    "## The algorithm below takes 0.3s"
   ]
  },
  {
   "cell_type": "code",
   "execution_count": 6,
   "metadata": {},
   "outputs": [
    {
     "name": "stderr",
     "output_type": "stream",
     "text": [
      "/var/folders/p9/hv4dt0sj5kgfwrq39rtxwdyh0000gn/T/ipykernel_35471/385892727.py:18: SettingWithCopyWarning: \n",
      "A value is trying to be set on a copy of a slice from a DataFrame\n",
      "\n",
      "See the caveats in the documentation: https://pandas.pydata.org/pandas-docs/stable/user_guide/indexing.html#returning-a-view-versus-a-copy\n",
      "  df_main['Human Development Index (HDI)'][i] = dict[match1][match2]      # fill a cell of new 'Human Development Index (HDI)' column with its respective value from dict\n"
     ]
    }
   ],
   "source": [
    "df_main = pd.read_csv('Data_csv/Population_Trend.csv', na_values=['','..','...'])\n",
    "df_HDI_2021 = pd.read_csv('Data_csv/HDI_Trend_1990-2021.csv', na_values=['','..','...'])\n",
    "\n",
    "dict = {}\n",
    "list = []\n",
    "for i in range (len(df_HDI_2021)):\n",
    "    key1, key2, val = df_HDI_2021['Country'][i], df_HDI_2021['Year'][i], df_HDI_2021['Human Development Index (HDI Value)'][i]\n",
    "    if not(key1 in list):           # check if we already have a sub-dict that has key1\n",
    "        dict[key1] = {key2: val}    # create a new sub-dict with key1\n",
    "        list.append(key1)           # add key1 to the list of all the key1 member(s) we already have\n",
    "    else:\n",
    "        dict[key1][key2] = val      # add new pair of key2 to a sub-dict that has key1\n",
    "\n",
    "df_main['Human Development Index (HDI)'] = [np.NaN for i in range(len(df_main))]    # create a new 'Human Development Index (HDI)' column filled with np.NaN\n",
    "for i in range (len(df_main)):\n",
    "    match1, match2 = df_main['Region, Country, or Area'][i], df_main['Year'][i]\n",
    "    try:\n",
    "        df_main['Human Development Index (HDI)'][i] = dict[match1][match2]      # fill a cell of new 'Human Development Index (HDI)' column with its respective value from dict\n",
    "    except KeyError:\n",
    "        pass                                                                    # if match is not found, pass\n",
    "\n",
    "df_main.to_csv('Population_Trend+HDI(optimized).csv', index=False)"
   ]
  },
  {
   "cell_type": "markdown",
   "metadata": {},
   "source": [
    "## The algorithm below takes 12-13s"
   ]
  },
  {
   "cell_type": "code",
   "execution_count": 5,
   "metadata": {},
   "outputs": [
    {
     "name": "stderr",
     "output_type": "stream",
     "text": [
      "/var/folders/p9/hv4dt0sj5kgfwrq39rtxwdyh0000gn/T/ipykernel_35471/3413505023.py:8: SettingWithCopyWarning: \n",
      "A value is trying to be set on a copy of a slice from a DataFrame\n",
      "\n",
      "See the caveats in the documentation: https://pandas.pydata.org/pandas-docs/stable/user_guide/indexing.html#returning-a-view-versus-a-copy\n",
      "  df_main['Gross national income (GNI) per capita'][i] = df_HDI_2021['Gross national income (GNI) per capita'][j]\n"
     ]
    }
   ],
   "source": [
    "df_main = pd.read_csv('Population_Trend+HDI.csv', na_values=['','..','...'])\n",
    "df_HDI_2021 = pd.read_csv('Data_csv/HDI+Components_2021.csv', na_values=['','..','...'])\n",
    "\n",
    "df_main['Gross national income (GNI) per capita'] = [None for i in range(len(df_main['Region, Country, or Area']))]\n",
    "for i in range(len(df_main['Region, Country, or Area'])):\n",
    "    for j in range(len(df_HDI_2021['Country'])):\n",
    "        if df_HDI_2021['Country'][j] == df_main['Region, Country, or Area'][i] and 2021 == df_main['Year'][i]:\n",
    "            df_main['Gross national income (GNI) per capita'][i] = df_HDI_2021['Gross national income (GNI) per capita'][j]\n",
    "\n",
    "df_main.to_csv('Population_Trend+HDI+GNI.csv', index=False)"
   ]
  },
  {
   "cell_type": "markdown",
   "metadata": {},
   "source": [
    "## The algorithm below takes 0.2s"
   ]
  },
  {
   "cell_type": "code",
   "execution_count": 7,
   "metadata": {},
   "outputs": [
    {
     "name": "stderr",
     "output_type": "stream",
     "text": [
      "/var/folders/p9/hv4dt0sj5kgfwrq39rtxwdyh0000gn/T/ipykernel_35471/4122151367.py:18: SettingWithCopyWarning: \n",
      "A value is trying to be set on a copy of a slice from a DataFrame\n",
      "\n",
      "See the caveats in the documentation: https://pandas.pydata.org/pandas-docs/stable/user_guide/indexing.html#returning-a-view-versus-a-copy\n",
      "  df_main['Gross national income (GNI) per capita'][i] = dict[match1][match2]      # fill a cell of new 'Human Development Index (HDI)' column with its respective value from dict\n"
     ]
    }
   ],
   "source": [
    "df_main = pd.read_csv('Population_Trend+HDI(optimized).csv', na_values=['','..','...'])\n",
    "df_Gov_Exp_GDP = pd.read_csv('Data_csv/HDI+Components_2021.csv', na_values=['','..','...'])\n",
    "\n",
    "dict = {}\n",
    "list = []\n",
    "for i in range (len(df_Gov_Exp_GDP)):\n",
    "    key1, key2, val = df_Gov_Exp_GDP['Country'][i], 2021, df_Gov_Exp_GDP['Gross national income (GNI) per capita'][i]\n",
    "    if not(key1 in list):           # check if we already have a sub-dict that has key1\n",
    "        dict[key1] = {key2: val}    # create a new sub-dict with key1\n",
    "        list.append(key1)           # add key1 to the list of all the key1 member(s) we already have\n",
    "    else:\n",
    "        dict[key1][key2] = val      # add new pair of key2 to a sub-dict that has key1\n",
    "\n",
    "df_main['Gross national income (GNI) per capita'] = [np.NaN for i in range(len(df_main))]    # create a new 'Gross national income (GNI) per capita' column filled with np.NaN\n",
    "for i in range (len(df_main)):\n",
    "    match1, match2 = df_main['Region, Country, or Area'][i], df_main['Year'][i]\n",
    "    try:\n",
    "        df_main['Gross national income (GNI) per capita'][i] = dict[match1][match2]      # fill a cell of new 'Human Development Index (HDI)' column with its respective value from dict\n",
    "    except KeyError:\n",
    "        pass                                                                    # if match is not found, pass\n",
    "\n",
    "df_main.to_csv('Population_Trend+HDI+GNI(optimized).csv', index=False)"
   ]
  },
  {
   "cell_type": "markdown",
   "metadata": {},
   "source": [
    "## The algorithm below takes 3m 10s to 3m 30s"
   ]
  },
  {
   "cell_type": "code",
   "execution_count": 8,
   "metadata": {},
   "outputs": [
    {
     "name": "stderr",
     "output_type": "stream",
     "text": [
      "/var/folders/p9/hv4dt0sj5kgfwrq39rtxwdyh0000gn/T/ipykernel_35471/512725788.py:8: SettingWithCopyWarning: \n",
      "A value is trying to be set on a copy of a slice from a DataFrame\n",
      "\n",
      "See the caveats in the documentation: https://pandas.pydata.org/pandas-docs/stable/user_guide/indexing.html#returning-a-view-versus-a-copy\n",
      "  df_main['Government Expenditure on Education (%_GDP)'][i] = float(df_Gov_Exp_GDP['Observation Value'][j])\n"
     ]
    }
   ],
   "source": [
    "df_main = pd.read_csv('Population_Trend+HDI+GNI.csv', na_values=['','..','...'])\n",
    "df_Gov_Exp_GDP = pd.read_csv('Data_csv/Gov_Exp_on_Edu_as_%_GDP.csv', na_values=['','..','...'])\n",
    "\n",
    "df_main['Government Expenditure on Education (%_GDP)'] = [None for i in range(len(df_main['Region, Country, or Area']))]\n",
    "for i in range(len(df_main['Region, Country, or Area'])):\n",
    "    for j in range(len(df_Gov_Exp_GDP['Reference Area'])):\n",
    "        if df_Gov_Exp_GDP['Reference Area'][j] == df_main['Region, Country, or Area'][i] and df_Gov_Exp_GDP['Time Period'][j] == df_main['Year'][i]:\n",
    "            df_main['Government Expenditure on Education (%_GDP)'][i] = float(df_Gov_Exp_GDP['Observation Value'][j])\n",
    "\n",
    "df_main.to_csv('Population_Trend+HDI+GNI+GovExp.csv', index=False)"
   ]
  },
  {
   "cell_type": "markdown",
   "metadata": {},
   "source": [
    "## The algorithm below takes 0.4s"
   ]
  },
  {
   "cell_type": "code",
   "execution_count": 12,
   "metadata": {},
   "outputs": [
    {
     "name": "stderr",
     "output_type": "stream",
     "text": [
      "/var/folders/p9/hv4dt0sj5kgfwrq39rtxwdyh0000gn/T/ipykernel_35471/1300022533.py:18: SettingWithCopyWarning: \n",
      "A value is trying to be set on a copy of a slice from a DataFrame\n",
      "\n",
      "See the caveats in the documentation: https://pandas.pydata.org/pandas-docs/stable/user_guide/indexing.html#returning-a-view-versus-a-copy\n",
      "  df_main['Government Expenditure on Education (%_GDP)'][i] = dict[match1][match2]        # fill a cell of new 'Government Expenditure on Education (%_GDP)' column with its respective value from dict\n"
     ]
    }
   ],
   "source": [
    "df_main = pd.read_csv('Population_Trend+HDI+GNI(optimized).csv', na_values=['','..','...'])\n",
    "df_GDP = pd.read_csv('Data_csv/Gov_Exp_on_Edu_as_%_GDP.csv', na_values=['','..','...'])\n",
    "\n",
    "dict = {}\n",
    "list = []\n",
    "for i in range (len(df_GDP)):\n",
    "    key1, key2, val = df_GDP['Reference Area'][i], df_GDP['Time Period'][i], df_GDP['Observation Value'][i]\n",
    "    if not(key1 in list):           # check if we already have a sub-dict that has key1\n",
    "        dict[key1] = {key2: val}    # create a new sub-dict with key1\n",
    "        list.append(key1)           # add key1 to the list of all the key1 member(s) we already have\n",
    "    else:\n",
    "        dict[key1][key2] = val      # add new pair of key2 to a sub-dict that has key1\n",
    "\n",
    "df_main['Government Expenditure on Education (%_GDP)'] = [np.NaN for i in range(len(df_main))]      # create a new 'Government Expenditure on Education (%_GDP)' column filled with np.NaN\n",
    "for i in range (len(df_main)):\n",
    "    match1, match2 = df_main['Region, Country, or Area'][i], df_main['Year'][i]\n",
    "    try:\n",
    "        df_main['Government Expenditure on Education (%_GDP)'][i] = dict[match1][match2]        # fill a cell of new 'Government Expenditure on Education (%_GDP)' column with its respective value from dict\n",
    "    except KeyError:\n",
    "        pass                                                                                    # if match is not found, pass\n",
    "\n",
    "df_main.to_csv('Population_Trend+HDI+GNI+GovExp(optimized).csv', index=False)"
   ]
  },
  {
   "cell_type": "markdown",
   "metadata": {},
   "source": [
    "## The algorithm below takes 25m to 30m"
   ]
  },
  {
   "cell_type": "code",
   "execution_count": null,
   "metadata": {},
   "outputs": [],
   "source": [
    "df_main = pd.read_csv('Population_Trend+HDI+GNI+GovExp.csv', na_values=['','..','...'])\n",
    "df_GDP = pd.read_csv('Data_csv/GDPperCap_1960-2021.csv', na_values=['','..','...'])\n",
    "\n",
    "df_main['Gross Domestic Product (GDP) per Capita (USD)'] = [None for i in range(len(df_main['ISO3 Alpha-code']))]\n",
    "for year in range(1960, 2021):\n",
    "    for i in range(len(df_main['ISO3 Alpha-code'])):\n",
    "        for j in range(len(df_GDP['Country Code'])):\n",
    "            if df_GDP['Country Code'][j] == df_main['ISO3 Alpha-code'][i] and year == df_main['Year'][i]:\n",
    "                df_main['Gross Domestic Product (GDP) per Capita (USD)'][i] = df_GDP[str(year)][j]\n",
    "\n",
    "df_main.to_csv('Population_Trend+HDI+GNI+GDP+GovExp.csv', index=False)"
   ]
  },
  {
   "cell_type": "markdown",
   "metadata": {},
   "source": [
    "## The algorithm below takes 1.1s"
   ]
  },
  {
   "cell_type": "code",
   "execution_count": 14,
   "metadata": {},
   "outputs": [
    {
     "name": "stderr",
     "output_type": "stream",
     "text": [
      "/var/folders/p9/hv4dt0sj5kgfwrq39rtxwdyh0000gn/T/ipykernel_35471/2532070926.py:19: SettingWithCopyWarning: \n",
      "A value is trying to be set on a copy of a slice from a DataFrame\n",
      "\n",
      "See the caveats in the documentation: https://pandas.pydata.org/pandas-docs/stable/user_guide/indexing.html#returning-a-view-versus-a-copy\n",
      "  df_main['Gross Domestic Product (GDP) per Capita (USD)'][i] = dict[match1][match2]      # fill a cell of new 'Gross Domestic Product (GDP) per Capita (USD)' column with its respective value from dict\n"
     ]
    }
   ],
   "source": [
    "df_main = pd.read_csv('Population_Trend+HDI+GNI+GovExp(optimized).csv', na_values=['','..','...'])\n",
    "df_GDP = pd.read_csv('Data_csv/GDPperCap_1960-2021.csv', na_values=['','..','...'])\n",
    "\n",
    "dict = {}\n",
    "list = []\n",
    "for year in range(1960, 2021):\n",
    "    for i in range (len(df_GDP)):\n",
    "        key1, key2, val = df_GDP['Country Code'][i], year, df_GDP[str(year)][i]\n",
    "        if not(key1 in list):           # check if we already have a sub-dict that has key1\n",
    "            dict[key1] = {key2: val}    # create a new sub-dict with key1\n",
    "            list.append(key1)           # add key1 to the list of all the key1 member(s) we already have\n",
    "        else:\n",
    "            dict[key1][key2] = val      # add new pair of key2 to a sub-dict that has key1\n",
    "\n",
    "df_main['Gross Domestic Product (GDP) per Capita (USD)'] = [np.NaN for i in range(len(df_main))]        # create a new 'Gross Domestic Product (GDP) per Capita (USD)' column filled with np.NaN\n",
    "for i in range (len(df_main)):\n",
    "    match1, match2 = df_main['ISO3 Alpha-code'][i], df_main['Year'][i]\n",
    "    try:\n",
    "        df_main['Gross Domestic Product (GDP) per Capita (USD)'][i] = dict[match1][match2]      # fill a cell of new 'Gross Domestic Product (GDP) per Capita (USD)' column with its respective value from dict\n",
    "    except KeyError:\n",
    "        pass                                                                                    # if match is not found, pass\n",
    "\n",
    "df_main.to_csv('Population_Trend+HDI+GNI+GDP+GovExp(optimized).csv', index=False)"
   ]
  }
 ],
 "metadata": {
  "kernelspec": {
   "display_name": "base",
   "language": "python",
   "name": "python3"
  },
  "language_info": {
   "codemirror_mode": {
    "name": "ipython",
    "version": 3
   },
   "file_extension": ".py",
   "mimetype": "text/x-python",
   "name": "python",
   "nbconvert_exporter": "python",
   "pygments_lexer": "ipython3",
   "version": "3.9.13 (main, Aug 25 2022, 18:29:29) \n[Clang 12.0.0 ]"
  },
  "orig_nbformat": 4,
  "vscode": {
   "interpreter": {
    "hash": "7b5ccee199e52c5b8e01f3a9523f58120078ad753fce07410cf5f0bf8ea0615c"
   }
  }
 },
 "nbformat": 4,
 "nbformat_minor": 2
}
